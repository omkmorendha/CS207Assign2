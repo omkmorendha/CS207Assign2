{
  "nbformat": 4,
  "nbformat_minor": 0,
  "metadata": {
    "colab": {
      "name": "Assign2.ipynb",
      "provenance": [],
      "authorship_tag": "ABX9TyPxGhUxvWFVvk3atn4/Q7Fv",
      "include_colab_link": true
    },
    "kernelspec": {
      "name": "python3",
      "display_name": "Python 3"
    },
    "language_info": {
      "name": "python"
    }
  },
  "cells": [
    {
      "cell_type": "markdown",
      "metadata": {
        "id": "view-in-github",
        "colab_type": "text"
      },
      "source": [
        "<a href=\"https://colab.research.google.com/github/omkmorendha/CS207Assign2/blob/main/Assign2.ipynb\" target=\"_parent\"><img src=\"https://colab.research.google.com/assets/colab-badge.svg\" alt=\"Open In Colab\"/></a>"
      ]
    },
    {
      "cell_type": "code",
      "metadata": {
        "colab": {
          "base_uri": "https://localhost:8080/"
        },
        "id": "7vJ-_xkxni4T",
        "outputId": "e39483a9-5ffb-4d91-c241-6fc530627982"
      },
      "source": [
        "import math\n",
        "\n",
        "class circle:\n",
        "  def __init__(self, rad):\n",
        "    self.r = rad\n",
        "  \n",
        "  def area(self):\n",
        "    print(\"Area: {:.2f}\".format((self.r ** 2) * math.pi))\n",
        "  \n",
        "  def peri(self):\n",
        "    print(\"Perimeter: {:.2f}\".format((self.r * 2) * math.pi))\n",
        "\n",
        "c1 = circle(5)\n",
        "c1.area()\n",
        "c1.peri()"
      ],
      "execution_count": null,
      "outputs": [
        {
          "output_type": "stream",
          "name": "stdout",
          "text": [
            "Area: 78.54\n",
            "Perimeter: 31.42\n"
          ]
        }
      ]
    },
    {
      "cell_type": "code",
      "metadata": {
        "id": "Yfcd6aUzp7HA",
        "colab": {
          "base_uri": "https://localhost:8080/"
        },
        "outputId": "e35ee69d-11cf-4d93-a477-6cb391ad8b7a"
      },
      "source": [
        "class teacher:\n",
        "  def __init__(self, name, id, branch, salary):\n",
        "    self.name = name\n",
        "    self.id = id\n",
        "    self.branch = branch\n",
        "    self.salary = salary\n",
        "\n",
        "  def printt(self):\n",
        "    print(\"Employee ID: \", self.id)\n",
        "    print(\"Name: \", self.name)\n",
        "    print(\"Branch: \", self.branch)\n",
        "    print(\"Salary:  \", self.salary)\n",
        "\n",
        "def main():\n",
        "  arr = []\n",
        "\n",
        "  for i in range(5): \n",
        "   name = input(\"Name: \")\n",
        "   id = input(\"ID: \")\n",
        "   branch = input(\"Branch: \")\n",
        "   sal = input(\"Salary: \")\n",
        "\n",
        "   arr.append(teacher(name, id, branch, sal))\n",
        "\n",
        "  arr[2].printt()\n",
        "\n",
        "main()"
      ],
      "execution_count": null,
      "outputs": [
        {
          "output_type": "stream",
          "name": "stdout",
          "text": [
            "Name: Om\n",
            "ID: 94\n",
            "Branch: CSE\n",
            "Salary: 90000\n",
            "Name: Aryan\n",
            "ID: 95\n",
            "Branch: DSAI\n",
            "Salary: 80000\n",
            "Name: Mohit\n",
            "ID: 67\n",
            "Branch: ECE\n",
            "Salary: 91000\n",
            "Name: Jaya\n",
            "ID: 98\n",
            "Branch: 78000\n",
            "Salary: 80000\n",
            "Name: Rohit\n",
            "ID: 54\n",
            "Branch: CSE\n",
            "Salary: 100000\n",
            "Employee ID:  67\n",
            "Name:  Mohit\n",
            "Branch:  ECE\n",
            "Salary:   91000\n"
          ]
        }
      ]
    },
    {
      "cell_type": "code",
      "metadata": {
        "colab": {
          "base_uri": "https://localhost:8080/"
        },
        "id": "-_ziNuWd8ecO",
        "outputId": "c373798e-94f1-4e4c-e219-98e8eaae0834"
      },
      "source": [
        "class acc:\n",
        "  def __init__(self, id, name, amt):\n",
        "    self.id = id\n",
        "    self.name = name\n",
        "    self.amt = amt\n",
        "\n",
        "  def dep(self, n):\n",
        "    self.amt += n\n",
        "\n",
        "  def wth(self, n):\n",
        "    if (n > self.amt):\n",
        "      print(\"Insufficient funds\")\n",
        "    else:\n",
        "      self.amt -= n\n",
        "\n",
        "  def chkacc(self):\n",
        "    print(\"Balance: \", self.amt)\n",
        "\n",
        "  def disp(self):\n",
        "    print(\"Account Number: \", self.id)\n",
        "    print(\"Account Name: \", self.name)\n",
        "\n",
        "def main():\n",
        "  nm = input(\"Name: \")\n",
        "  id = input(\"ID: \")\n",
        "  bal = int(input(\"Balance: \"))\n",
        "\n",
        "  A = acc(id, nm, bal)\n",
        "  A.dep(50000)\n",
        "  A.wth(40000)\n",
        "  A.disp()\n",
        "  A.chkacc()\n",
        "\n",
        "main()"
      ],
      "execution_count": null,
      "outputs": [
        {
          "output_type": "stream",
          "name": "stdout",
          "text": [
            "Name: Om Morendha\n",
            "ID: 948523\n",
            "Balance: 90000\n",
            "Account Number:  948523\n",
            "Account Name:  Om Morendha\n",
            "Balance:  100000\n"
          ]
        }
      ]
    },
    {
      "cell_type": "code",
      "metadata": {
        "colab": {
          "base_uri": "https://localhost:8080/"
        },
        "id": "Akhlhwk7-087",
        "outputId": "f092ccbc-ac38-4c1e-a4d2-b29d324cbdef"
      },
      "source": [
        "class student:\n",
        "  def __init__(self, usn, name, sub):\n",
        "    self.usn = usn\n",
        "    self.name = name\n",
        "    self.marks = sub\n",
        "\n",
        "  def disp(self):\n",
        "    print(\"USN: \", self.usn)\n",
        "    print(\"Name: \", self.name)\n",
        "    print(\"Marks: \", self.marks)\n",
        "\n",
        "def main():\n",
        "  usn = input(\"USN: \")\n",
        "  name = input(\"Name: \")\n",
        "  sub1 = input(\"Marks in Subject 1: \")\n",
        "  sub2 = input(\"Marks in Subject 2: \")\n",
        "  sub3 = input(\"Marks in Subject 3: \")\n",
        "\n",
        "  sub = [sub1, sub2, sub3]\n",
        "  st = student(usn, name, sub)\n",
        "\n",
        "  print(\"\\n\\n\")\n",
        "  st.disp()\n",
        "\n",
        "main()"
      ],
      "execution_count": null,
      "outputs": [
        {
          "output_type": "stream",
          "name": "stdout",
          "text": [
            "USN: 82394\n",
            "Name: Om Morendha\n",
            "Marks in Subject 1: 89\n",
            "Marks in Subject 2: 84\n",
            "Marks in Subject 3: 90\n",
            "\n",
            "\n",
            "\n",
            "USN:  82394\n",
            "Name:  Om Morendha\n",
            "Marks:  ['89', '84', '90']\n"
          ]
        }
      ]
    },
    {
      "cell_type": "code",
      "metadata": {
        "id": "fhcXl--zES7i"
      },
      "source": [
        "patients = []\n",
        "\n",
        "class patient:\n",
        "  def __init__(self, nm, doa, lis, oxy, dod):\n",
        "    self.nm = nm\n",
        "    self.doa = doa\n",
        "    self.lis = lis\n",
        "    self.oxy = oxy\n",
        "    self.dod = dod\n",
        "\n",
        "  def chkoxy(self):\n",
        "    if (self.oxy < 90):\n",
        "      print(\"Severe\")\n",
        "    else:\n",
        "      print(\"Not Severe\")\n",
        "\n",
        "  def oxysp(self):\n",
        "    n = 0\n",
        "\n",
        "    for i in patients:\n",
        "      if patients[i].oxy < 90:\n",
        "        n++\n",
        "\n",
        "    print(n ,\"patients require oxygen support\")\n",
        "\n",
        "  def gen(self):\n",
        "    n = 0\n",
        "\n",
        "    for i in patients:\n",
        "      if patients[i].dod is not None and patients[i].oxy > 90:\n",
        "        n++\n",
        "\n",
        "      print(n, \"patients are in the general ward\")\n",
        "\n",
        "  def num(self):\n",
        "    n = len(patients)\n",
        "    print(\"Total\", n, \"patients admitted\")"
      ],
      "execution_count": null,
      "outputs": []
    },
    {
      "cell_type": "code",
      "metadata": {
        "colab": {
          "base_uri": "https://localhost:8080/"
        },
        "id": "Z4egQyBXFkjl",
        "outputId": "599cad9a-1e62-4b00-9ee8-b8c23505c3ba"
      },
      "source": [
        "class time:\n",
        "  def __init__(self, hour = 0, minute = 0, sec = 0):\n",
        "    self.hour = hour\n",
        "    self.minute = minute\n",
        "    self.sec = sec\n",
        "\n",
        "  def disp(self):\n",
        "    print(self.hour, ':', self.minute, ':', self.sec)\n",
        "\n",
        "t1 = time()\n",
        "t2 = time(4, 30, 12)\n",
        "\n",
        "t1.disp()\n",
        "t2.disp()"
      ],
      "execution_count": null,
      "outputs": [
        {
          "output_type": "stream",
          "name": "stdout",
          "text": [
            "0 : 0 : 0\n",
            "4 : 30 : 12\n"
          ]
        }
      ]
    },
    {
      "cell_type": "code",
      "metadata": {
        "colab": {
          "base_uri": "https://localhost:8080/"
        },
        "id": "-TOPBJlyHqJn",
        "outputId": "81ab69f7-e111-49db-9f19-86cbddd775b9"
      },
      "source": [
        "class student:\n",
        "  def __init__(self, name, age, roll):\n",
        "    self.name = name\n",
        "    self.age = age\n",
        "    self.roll = roll\n",
        "  \n",
        "  def eq(self, std1):\n",
        "    if (self.name == std1.name and self.age == std1.age and self.roll == std1.roll):\n",
        "      print(\"Equal\")\n",
        "    else:\n",
        "      print(\"Not Equal\")\n",
        "\n",
        "std1 = student(\"Rahul\", 21, 33)\n",
        "std2 = student(\"Rahul\", 22, 74)\n",
        "std1.eq(std2)"
      ],
      "execution_count": null,
      "outputs": [
        {
          "output_type": "stream",
          "name": "stdout",
          "text": [
            "Not Equal\n"
          ]
        }
      ]
    },
    {
      "cell_type": "code",
      "metadata": {
        "colab": {
          "base_uri": "https://localhost:8080/"
        },
        "id": "fAPr0jvANj4x",
        "outputId": "0d556637-15a7-4bec-be4a-5805ce72c9a0"
      },
      "source": [
        "class student:\n",
        "  ins = \"IIIT Dharwad\"\n",
        "  sem = 3\n",
        "\n",
        "  def __init__(self, name, usn):\n",
        "    self.usn = usn\n",
        "    self.name = name\n",
        "\n",
        "  @classmethod\n",
        "  def cldisp(self):\n",
        "    print(\"Semester\", self.sem, \"in\", self.ins)\n",
        "\n",
        "  def vardisp(self):\n",
        "    print(\"USN: \", self.usn)\n",
        "    print(\"Name: \", self.name)\n",
        "\n",
        "std1 = student(\"Om Morendha\", '20bcs095')\n",
        "std1.cldisp()\n",
        "print('\\n\\n')\n",
        "std1.vardisp()"
      ],
      "execution_count": null,
      "outputs": [
        {
          "output_type": "stream",
          "name": "stdout",
          "text": [
            "Semester 3 in IIIT Dharwad\n",
            "\n",
            "\n",
            "\n",
            "USN:  20bcs095\n",
            "Name:  Om Morendha\n"
          ]
        }
      ]
    },
    {
      "cell_type": "code",
      "metadata": {
        "id": "L9hwGprJUEnN"
      },
      "source": [
        "class laptop:\n",
        "  def __init__(self, cpu, ram, hd):\n",
        "    self.cpu = cpu \n",
        "    self.ram = ram\n",
        "    self.hd = hd\n",
        "  \n",
        "  def printl(self):\n",
        "    print(\"CPU:\", cpu)\n",
        "    print(\"RAM:\", ram)\n",
        "    print(\"Hard Disk:\", hd)\n",
        "\n",
        "def student:\n",
        "  def __init__(self, nm, roll, sem, lap):\n",
        "    self.nm = nm\n",
        "    self.roll = roll\n",
        "    self.sem = sem \n",
        "    self.lap = lap"
      ],
      "execution_count": null,
      "outputs": []
    }
  ]
}